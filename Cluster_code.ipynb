{
  "nbformat": 4,
  "nbformat_minor": 0,
  "metadata": {
    "colab": {
      "provenance": []
    },
    "kernelspec": {
      "name": "python3",
      "display_name": "Python 3"
    },
    "language_info": {
      "name": "python"
    }
  },
  "cells": [
    {
      "cell_type": "code",
      "execution_count": null,
      "metadata": {
        "colab": {
          "base_uri": "https://localhost:8080/"
        },
        "id": "7zaikptHYsdD",
        "outputId": "970be391-6180-4f37-cc07-18ee2355934d"
      },
      "outputs": [
        {
          "output_type": "stream",
          "name": "stdout",
          "text": [
            "Downloading...\n",
            "From: https://drive.google.com/uc?id=13zidA52_u1N1CDuQtSyg0-SNvVZu-Cyp\n",
            "To: /content/CACD2000_embeddings.tar.gz\n",
            "100% 3.99G/3.99G [00:39<00:00, 102MB/s]\n"
          ]
        }
      ],
      "source": [
        "!gdown https://drive.google.com/uc?id=13zidA52_u1N1CDuQtSyg0-SNvVZu-Cyp"
      ]
    },
    {
      "cell_type": "code",
      "source": [
        "!tar -xf CACD2000_embeddings.tar.gz"
      ],
      "metadata": {
        "id": "MeOIoK3JYwNR"
      },
      "execution_count": null,
      "outputs": []
    },
    {
      "cell_type": "code",
      "source": [
        "!gdown https://drive.google.com/uc?id=1JWTqMEiUZ2yNUJJl_5Ctq8SuskVocn51&export=download"
      ],
      "metadata": {
        "colab": {
          "base_uri": "https://localhost:8080/"
        },
        "id": "Qdt5YfFGaDg3",
        "outputId": "8697764b-0ca8-4faa-9760-9442ea70fa43"
      },
      "execution_count": null,
      "outputs": [
        {
          "output_type": "stream",
          "name": "stdout",
          "text": [
            "Downloading...\n",
            "From: https://drive.google.com/uc?id=1JWTqMEiUZ2yNUJJl_5Ctq8SuskVocn51\n",
            "To: /content/CACD2000_refined.tar\n",
            "100% 1.99G/1.99G [00:29<00:00, 68.6MB/s]\n"
          ]
        }
      ]
    },
    {
      "cell_type": "code",
      "source": [
        "!tar -xf CACD2000_refined.tar"
      ],
      "metadata": {
        "id": "IozbTBIHaKHj"
      },
      "execution_count": null,
      "outputs": []
    },
    {
      "cell_type": "code",
      "source": [
        "!pip install annoy"
      ],
      "metadata": {
        "id": "HWnPjc7BbDZi"
      },
      "execution_count": null,
      "outputs": []
    },
    {
      "cell_type": "code",
      "source": [
        "!pip install deepface"
      ],
      "metadata": {
        "id": "wT5-Vp89om5M"
      },
      "execution_count": null,
      "outputs": []
    },
    {
      "cell_type": "code",
      "source": [
        "from deepface import DeepFace\n",
        "import json\n",
        "\n",
        "def image_to_embedding(image_path):\n",
        "    try:\n",
        "        embedding_json = {}\n",
        "        embedding_json['image_name'] = image_path\n",
        "        embedding_objs = DeepFace.represent(img_path=image_path)\n",
        "        embedding_json.update(embedding_objs[0])\n",
        "        return embedding_json\n",
        "    except:\n",
        "        print(\"Error at \" + image_path)\n",
        "        return None"
      ],
      "metadata": {
        "id": "UMu_VFYIeloG",
        "colab": {
          "base_uri": "https://localhost:8080/"
        },
        "outputId": "629585d4-0c24-4558-bfa1-e7d6f5a870fb"
      },
      "execution_count": null,
      "outputs": [
        {
          "output_type": "stream",
          "name": "stdout",
          "text": [
            "Directory  /root /.deepface created\n",
            "Directory  /root /.deepface/weights created\n"
          ]
        }
      ]
    },
    {
      "cell_type": "code",
      "source": [
        "from annoy import AnnoyIndex\n",
        "\n",
        "def calculate_similarity_scores(target_embedding, other_embeddings, n_neighbors=10):\n",
        "    f = len(target_embedding)\n",
        "    t = AnnoyIndex(f, metric='euclidean')\n",
        "    ntree = 50\n",
        "\n",
        "    for i, vector in enumerate(other_embeddings):\n",
        "        t.add_item(i, vector)\n",
        "    t.build(ntree)\n",
        "\n",
        "    similar_img_ids, distances = t.get_nns_by_vector(target_embedding, n_neighbors, include_distances=True)\n",
        "    return similar_img_ids, distances\n"
      ],
      "metadata": {
        "id": "NEVqhQex1L8t"
      },
      "execution_count": null,
      "outputs": []
    },
    {
      "cell_type": "code",
      "source": [
        "def process_and_calculate_similarity(target_image_path, other_image_paths):\n",
        "    target_embedding = image_to_embedding(target_image_path)\n",
        "    if target_embedding is None:\n",
        "        return None\n",
        "\n",
        "    other_embeddings = [image_to_embedding(image_path) for image_path in other_image_paths if image_path != target_image_path]\n",
        "    other_embeddings = [emb for emb in other_embeddings if emb is not None]\n",
        "\n",
        "    if len(other_embeddings) < 10:\n",
        "        print(\"Error: Could not process all 10 images.\")\n",
        "        return None\n",
        "\n",
        "    similar_img_ids, distances = calculate_similarity_scores(target_embedding['embedding'], [emb['embedding'] for emb in other_embeddings])\n",
        "\n",
        "    return distances\n"
      ],
      "metadata": {
        "id": "k9voZuCy5_FN"
      },
      "execution_count": null,
      "outputs": []
    },
    {
      "cell_type": "code",
      "source": [
        "# Example usage:\n",
        "target_image_path = \"/content/CACD2000/58_Olivia_Hussey_0015.jpg\"  # Replace with target image path\n",
        "other_image_paths = [\"/content/CACD2000/59_David_Keith_0002.jpg\",\n",
        "                     \"/content/CACD2000/59_Barbara_Niven_0001.jpg\",\n",
        "                     \"/content/CACD2000/59_Anjelica_Huston_0001.jpg\",\n",
        "                     \"/content/CACD2000/58_Tony_Todd_0002.jpg\",\n",
        "                     \"/content/CACD2000/58_Patrick_Bergin_0002.jpg\",\n",
        "                     \"/content/CACD2000/58_Patricia_Richardson_0003.jpg\",\n",
        "                     \"/content/CACD2000/58_Pamela_Sue_Martin_0003.jpg\",\n",
        "                     \"/content/CACD2000/58_Pam_Dawber_0001.jpg\",\n",
        "                     \"/content/CACD2000/58_Ornella_Muti_0002.jpg\",\n",
        "                     \"/content/CACD2000/58_Oprah_Winfrey_0001.jpg\"\n",
        "                     ]\n",
        "\n",
        "similarities = process_and_calculate_similarity(target_image_path, other_image_paths)\n",
        "\n",
        "if similarities is not None:\n",
        "    print(similarities)\n"
      ],
      "metadata": {
        "id": "6-F0w9Vf6Ijc",
        "colab": {
          "base_uri": "https://localhost:8080/"
        },
        "outputId": "3ee66657-93de-4521-9978-9f1fdc9453c1"
      },
      "execution_count": null,
      "outputs": [
        {
          "output_type": "stream",
          "name": "stdout",
          "text": [
            "[0.6252131462097168, 0.7003781795501709, 0.7080273628234863, 0.7092623710632324, 0.724470317363739, 0.7511918544769287, 0.755162239074707, 0.7579216361045837, 0.8266392350196838, 0.8495576977729797]\n"
          ]
        }
      ]
    }
  ]
}