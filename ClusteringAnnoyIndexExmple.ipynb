{
  "nbformat": 4,
  "nbformat_minor": 0,
  "metadata": {
    "colab": {
      "provenance": []
    },
    "kernelspec": {
      "name": "python3",
      "display_name": "Python 3"
    },
    "language_info": {
      "name": "python"
    }
  },
  "cells": [
    {
      "cell_type": "code",
      "execution_count": 1,
      "metadata": {
        "colab": {
          "base_uri": "https://localhost:8080/"
        },
        "id": "eSx8-GUx_Xfz",
        "outputId": "3b6a2279-15c7-4b9b-a330-c448e52e6b78"
      },
      "outputs": [
        {
          "output_type": "stream",
          "name": "stdout",
          "text": [
            "Collecting annoy\n",
            "  Downloading annoy-1.17.3.tar.gz (647 kB)\n",
            "\u001b[2K     \u001b[90m━━━━━━━━━━━━━━━━━━━━━━━━━━━━━━━━━━━━━━━\u001b[0m \u001b[32m647.5/647.5 kB\u001b[0m \u001b[31m9.8 MB/s\u001b[0m eta \u001b[36m0:00:00\u001b[0m\n",
            "\u001b[?25h  Preparing metadata (setup.py) ... \u001b[?25l\u001b[?25hdone\n",
            "Building wheels for collected packages: annoy\n",
            "  Building wheel for annoy (setup.py) ... \u001b[?25l\u001b[?25hdone\n",
            "  Created wheel for annoy: filename=annoy-1.17.3-cp310-cp310-linux_x86_64.whl size=552446 sha256=6f54fcb64c38a70e784e3c65c9add4c267ec8fa505f1e4a7473de9212a1411cd\n",
            "  Stored in directory: /root/.cache/pip/wheels/64/8a/da/f714bcf46c5efdcfcac0559e63370c21abe961c48e3992465a\n",
            "Successfully built annoy\n",
            "Installing collected packages: annoy\n",
            "Successfully installed annoy-1.17.3\n"
          ]
        }
      ],
      "source": [
        "!pip install annoy\n",
        "import os\n",
        "import pandas as pd\n",
        "import numpy as np"
      ]
    },
    {
      "cell_type": "code",
      "source": [
        "!gdown https://drive.google.com/uc?id=1JWTqMEiUZ2yNUJJl_5Ctq8SuskVocn51&export=download\n",
        "!tar -xf CACD2000_refined.tar"
      ],
      "metadata": {
        "colab": {
          "base_uri": "https://localhost:8080/"
        },
        "id": "sZXd9al8H_C3",
        "outputId": "5e790964-1807-4549-f07a-7b984e297404"
      },
      "execution_count": 2,
      "outputs": [
        {
          "output_type": "stream",
          "name": "stdout",
          "text": [
            "Downloading...\n",
            "From: https://drive.google.com/uc?id=1JWTqMEiUZ2yNUJJl_5Ctq8SuskVocn51\n",
            "To: /content/CACD2000_refined.tar\n",
            "100% 1.99G/1.99G [00:30<00:00, 66.1MB/s]\n"
          ]
        }
      ]
    },
    {
      "cell_type": "code",
      "source": [
        "!gdown --id 1HFxHX2RkEr7_yVHnA-qk5Lj8CxOWrUda"
      ],
      "metadata": {
        "colab": {
          "base_uri": "https://localhost:8080/"
        },
        "id": "QZY1niYAuYcD",
        "outputId": "24b14886-bafe-49ac-d11f-b6df0327f15d"
      },
      "execution_count": 3,
      "outputs": [
        {
          "output_type": "stream",
          "name": "stdout",
          "text": [
            "/usr/local/lib/python3.10/dist-packages/gdown/cli.py:121: FutureWarning: Option `--id` was deprecated in version 4.3.1 and will be removed in 5.0. You don't need to pass it anymore to use a file ID.\n",
            "  warnings.warn(\n",
            "Downloading...\n",
            "From: https://drive.google.com/uc?id=1HFxHX2RkEr7_yVHnA-qk5Lj8CxOWrUda\n",
            "To: /content/final_embeddings_clusters.parquet.gzip\n",
            "100% 1.85G/1.85G [00:42<00:00, 43.3MB/s]\n"
          ]
        }
      ]
    },
    {
      "cell_type": "code",
      "source": [
        "df = pd.read_parquet(\"final_embeddings_clusters.parquet.gzip\")"
      ],
      "metadata": {
        "id": "-W2OLUp2wcjC"
      },
      "execution_count": 4,
      "outputs": []
    },
    {
      "cell_type": "code",
      "source": [
        "from annoy import AnnoyIndex\n",
        "\n",
        "f = len(df['embedding'][0])\n",
        "t = AnnoyIndex(f, metric='euclidean')\n",
        "# ntree = 50\n",
        "\n",
        "# for i, vector in enumerate(df['embedding']):\n",
        "#     t.add_item(i, vector)\n",
        "# _  = t.build(ntree)\n",
        "\n",
        "t.load('/content/CACD2000_refined_image_embeddings_clusters.ann')"
      ],
      "metadata": {
        "id": "zGkRsNQiw5xX"
      },
      "execution_count": 5,
      "outputs": []
    },
    {
      "cell_type": "code",
      "source": [
        "t.save('CACD2000_refined_image_embeddings_clusters.ann')"
      ],
      "metadata": {
        "colab": {
          "base_uri": "https://localhost:8080/"
        },
        "id": "wPdHjIlM94oL",
        "outputId": "0f0df21f-7186-45d5-9e5d-272098a94a86"
      },
      "execution_count": 12,
      "outputs": [
        {
          "output_type": "execute_result",
          "data": {
            "text/plain": [
              "True"
            ]
          },
          "metadata": {},
          "execution_count": 12
        }
      ]
    },
    {
      "cell_type": "code",
      "source": [
        "def get_similar_images_annoy(img_index, n=10, max_dist=10):\n",
        "    vid, face  = df.iloc[img_index, [0, 1]]\n",
        "    # print(vid, face)\n",
        "    similar_img_ids, dist = t.get_nns_by_item(img_index, n+1, include_distances=True)\n",
        "\n",
        "    temp = similar_img_ids[::-1]\n",
        "    dtemp = dist[::-1]\n",
        "\n",
        "    t1 = []\n",
        "\n",
        "    for s,d in zip(temp, dtemp):\n",
        "      #if d >= 0.3:\n",
        "      #print(d)\n",
        "      t1.append(s)\n",
        "\n",
        "    similar_img_ids = t1[1:]\n",
        "\n",
        "    #similar_img_ids = [s for s,d in zip(similar_img_ids, dist) if d <= max_dist][1:]  # first item is always its own video\n",
        "    return vid, vid, df.iloc[similar_img_ids], dist"
      ],
      "metadata": {
        "id": "RzlGUECFwx1I"
      },
      "execution_count": 9,
      "outputs": []
    },
    {
      "cell_type": "code",
      "source": [
        "  def get_sample_n_similar(sample_idx):\n",
        "      output_images = []\n",
        "      vid, face, similar, distances = get_similar_images_annoy(sample_idx)\n",
        "\n",
        "      #fig = plt.figure(figsize=(15, 7))\n",
        "      #gs = fig.add_gridspec(2, 6)\n",
        "      #ax1 = fig.add_subplot(gs[0:2, 0:2])\n",
        "      #ax2 = fig.add_subplot(gs[0, 2])\n",
        "      #ax3 = fig.add_subplot(gs[0, 3])\n",
        "      #ax4 = fig.add_subplot(gs[0, 4])\n",
        "      #ax5 = fig.add_subplot(gs[0, 5])\n",
        "      #ax6 = fig.add_subplot(gs[1, 2])\n",
        "      #ax7 = fig.add_subplot(gs[1, 3])\n",
        "      #ax8 = fig.add_subplot(gs[1, 4])\n",
        "      #ax9 = fig.add_subplot(gs[1, 5])\n",
        "      #axx = [ax1, ax2, ax3, ax4, ax5, ax6, ax7, ax8, ax9]\n",
        "      #for ax in axx:\n",
        "      #    ax.set_axis_off()\n",
        "      list_plot = [face] + similar['face'].values.tolist()\n",
        "      list_cluster = [df.iloc[sample_idx]['cluster']] + similar['cluster'].values.tolist()\n",
        "      for face, cluster, dist in zip(list_plot, list_cluster, distances):\n",
        "        try:\n",
        "          output_images.append(f'{face.split(\"/\")[-1][:-4]}.jpg')\n",
        "        except:\n",
        "          continue\n",
        "          # print(face)\n",
        "          # print(\"did not exist\")\n",
        "      return output_images"
      ],
      "metadata": {
        "id": "ILxfBISdw-Dh"
      },
      "execution_count": 10,
      "outputs": []
    },
    {
      "cell_type": "code",
      "source": [
        "test = []\n",
        "for i in np.random.choice(len(df), 3, replace=False):\n",
        "    test.append(get_sample_n_similar(i))\n",
        "    #get_similar_images_annoy(i)\n",
        "    #print(i)\n",
        "\n",
        "#get_sample_n_similar(i)\n",
        "test"
      ],
      "metadata": {
        "colab": {
          "base_uri": "https://localhost:8080/"
        },
        "id": "z4UTkYeExtF_",
        "outputId": "4b703fe6-8b75-4fa1-b528-c76e781889ac"
      },
      "execution_count": 11,
      "outputs": [
        {
          "output_type": "execute_result",
          "data": {
            "text/plain": [
              "[['58_Michael_Moore_0002.jpg',\n",
              "  '50_Michael_Moore_0001.jpg',\n",
              "  '52_Michael_Moore_0006.jpg',\n",
              "  '50_Michael_Moore_0010.jpg',\n",
              "  '56_Michael_Moore_0014.jpg',\n",
              "  '59_Michael_Moore_0004.jpg',\n",
              "  '59_Michael_Moore_0010.jpg',\n",
              "  '57_Michael_Moore_0005.jpg',\n",
              "  '58_Michael_Moore_0010.jpg',\n",
              "  '58_Michael_Moore_0003.jpg',\n",
              "  '58_Michael_Moore_0002.jpg'],\n",
              " ['25_Lena_Dunham_0001.jpg',\n",
              "  '30_Jayma_Mays_0007.jpg',\n",
              "  '43_Kelly_Preston_0001.jpg',\n",
              "  '30_Isla_Fisher_0004.jpg',\n",
              "  '30_Maggie_Grace_0001.jpg',\n",
              "  '33_Jenna_Fischer_0003.jpg',\n",
              "  '24_Nina_Dobrev_0016.jpg',\n",
              "  '22_Lena_Dunham_0014.jpg',\n",
              "  '24_Sara_Canning_0013.jpg',\n",
              "  '22_Lena_Dunham_0009.jpg',\n",
              "  '25_Lena_Dunham_0001.jpg'],\n",
              " ['56_Tanya_Roberts_0015.jpg',\n",
              "  '50_Beth_Broderick_0008.jpg',\n",
              "  '27_Brittany_Snow_0005.jpg',\n",
              "  '28_A.J._Cook_0005.jpg',\n",
              "  '60_Kate_Capshaw_0009.jpg',\n",
              "  '21_Stephanie_Leonidas_0004.jpg',\n",
              "  '19_Caleb_Landry_Jones_0009.jpg',\n",
              "  '27_Michael_Raymond-James_0010.jpg',\n",
              "  '44_Patricia_Arquette_0005.jpg',\n",
              "  '48_Steve_Coogan_0004.jpg',\n",
              "  '56_Tanya_Roberts_0015.jpg']]"
            ]
          },
          "metadata": {},
          "execution_count": 11
        }
      ]
    },
    {
      "cell_type": "code",
      "source": [],
      "metadata": {
        "id": "jc6V8w1U-CJu"
      },
      "execution_count": null,
      "outputs": []
    }
  ]
}