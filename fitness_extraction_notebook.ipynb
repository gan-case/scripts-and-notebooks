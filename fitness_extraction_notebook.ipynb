{
  "nbformat": 4,
  "nbformat_minor": 0,
  "metadata": {
    "colab": {
      "provenance": []
    },
    "kernelspec": {
      "name": "python3",
      "display_name": "Python 3"
    },
    "language_info": {
      "name": "python"
    }
  },
  "cells": [
    {
      "cell_type": "code",
      "execution_count": 3,
      "metadata": {
        "colab": {
          "base_uri": "https://localhost:8080/"
        },
        "id": "ZhywhNUuqmMO",
        "outputId": "330d7d17-b004-4b1f-f679-113f5c2f02d0"
      },
      "outputs": [
        {
          "output_type": "stream",
          "name": "stdout",
          "text": [
            "Downloading...\n",
            "From: https://drive.google.com/uc?id=14xh9f5argH3OmfCDXGFcvtnhqn9_k3t6\n",
            "To: /content/survival-of-the-fittest.txt\n",
            "\r  0% 0.00/523k [00:00<?, ?B/s]\r100% 523k/523k [00:00<00:00, 21.2MB/s]\n"
          ]
        }
      ],
      "source": [
        "!gdown https://drive.google.com/uc?id=14xh9f5argH3OmfCDXGFcvtnhqn9_k3t6"
      ]
    },
    {
      "cell_type": "code",
      "source": [
        "!gdown https://drive.google.com/uc?id=1JWTqMEiUZ2yNUJJl_5Ctq8SuskVocn51"
      ],
      "metadata": {
        "colab": {
          "base_uri": "https://localhost:8080/"
        },
        "id": "ETl7miyZqyU1",
        "outputId": "373a8320-56c6-43c6-e430-8554bb185d93"
      },
      "execution_count": 4,
      "outputs": [
        {
          "output_type": "stream",
          "name": "stdout",
          "text": [
            "Downloading...\n",
            "From: https://drive.google.com/uc?id=1JWTqMEiUZ2yNUJJl_5Ctq8SuskVocn51\n",
            "To: /content/CACD2000_refined.tar\n",
            "100% 1.99G/1.99G [00:35<00:00, 55.8MB/s]\n"
          ]
        }
      ]
    },
    {
      "cell_type": "code",
      "source": [
        "!tar -xf /content/CACD2000_refined.tar"
      ],
      "metadata": {
        "id": "B9eKjMlzrNEZ"
      },
      "execution_count": 11,
      "outputs": []
    },
    {
      "cell_type": "code",
      "source": [
        "!ls /content/CACD2000 | wc -l"
      ],
      "metadata": {
        "colab": {
          "base_uri": "https://localhost:8080/"
        },
        "id": "2AsAoNKdr19S",
        "outputId": "7f5307a3-5b30-475f-b34b-f3a6ef832766"
      },
      "execution_count": 13,
      "outputs": [
        {
          "output_type": "stream",
          "name": "stdout",
          "text": [
            "159350\n"
          ]
        }
      ]
    },
    {
      "cell_type": "code",
      "source": [
        "import os\n",
        "os.chdir('/content')\n",
        "os.mkdir('fit_images')"
      ],
      "metadata": {
        "id": "Ln-fmu1CsbLk"
      },
      "execution_count": 14,
      "outputs": []
    },
    {
      "cell_type": "code",
      "source": [
        "import shutil\n",
        "\n",
        "f = open('survival-of-the-fittest.txt', 'r')\n",
        "\n",
        "failed = 0\n",
        "\n",
        "for l in f:\n",
        "  try:\n",
        "      shutil.copyfile('/content/CACD2000/' + l.rstrip('\\n'), '/content/fit_images/' + l.rstrip('\\n'))\n",
        "  except FileNotFoundError:\n",
        "      failed = failed + 1\n",
        "\n",
        "print(\"Failed to copy \" + str(failed) + \" images\")"
      ],
      "metadata": {
        "colab": {
          "base_uri": "https://localhost:8080/"
        },
        "id": "mRNwzspSsjL5",
        "outputId": "cb4444b9-8c26-4564-c640-7b3450f5f91f"
      },
      "execution_count": 34,
      "outputs": [
        {
          "output_type": "stream",
          "name": "stdout",
          "text": [
            "Failed to copy 438 images\n"
          ]
        }
      ]
    },
    {
      "cell_type": "code",
      "source": [
        "!ls /content/fit_images | wc -l"
      ],
      "metadata": {
        "colab": {
          "base_uri": "https://localhost:8080/"
        },
        "id": "TdkuvhqjslJb",
        "outputId": "042bad43-8f31-42c7-aa8d-fb15e838fe3e"
      },
      "execution_count": 35,
      "outputs": [
        {
          "output_type": "stream",
          "name": "stdout",
          "text": [
            "19493\n"
          ]
        }
      ]
    },
    {
      "cell_type": "code",
      "source": [
        "!tar -zcvf CACD2000_refined_fittest.tar.gz /content/fit_images"
      ],
      "metadata": {
        "id": "OKFqu1J-wUuB"
      },
      "execution_count": null,
      "outputs": []
    },
    {
      "cell_type": "code",
      "source": [
        "!mv /content/CACD200_refined_fittest.tar.gz /content/CACD2000_refined_fittest.tar.gz"
      ],
      "metadata": {
        "id": "C03BHdh8wj_j"
      },
      "execution_count": 37,
      "outputs": []
    },
    {
      "cell_type": "code",
      "source": [],
      "metadata": {
        "id": "JanFXQz7wxhn"
      },
      "execution_count": null,
      "outputs": []
    }
  ]
}